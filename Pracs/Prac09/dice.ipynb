{
 "cells": [
  {
   "cell_type": "code",
   "execution_count": 16,
   "metadata": {},
   "outputs": [
    {
     "data": {
      "image/png": "[encoded data removed]",
      "text/plain": [
       "<Figure size 432x288 with 1 Axes>"
      ]
     },
     "metadata": {
      "needs_background": "light"
     },
     "output_type": "display_data"
    }
   ],
   "source": [
    "import random\n",
    "import matplotlib.pyplot as plt\n",
    "dicecount = {1: 0, 2: 0, 3: 0, 4: 0, 5: 0, 6: 0}\n",
    "for i in range(1000):\n",
    "    toss = random.randint(1,6)\n",
    "    dicecount[toss] += 1\n",
    "plt.bar(dicecount.keys(), dicecount.values())\n",
    "plt.show()"
   ]
  },
  {
   "cell_type": "code",
   "execution_count": 17,
   "metadata": {},
   "outputs": [
    {
     "data": {
      "image/png": "[encoded data removed]",
      "text/plain": [
       "<Figure size 432x288 with 1 Axes>"
      ]
     },
     "metadata": {
      "needs_background": "light"
     },
     "output_type": "display_data"
    }
   ],
   "source": [
    "plt.title('Dice Rolls (1000)')\n",
    "plt.bar(dicecount.keys(), dicecount.values())\n",
    "plt.show()"
   ]
  },
  {
   "cell_type": "code",
   "execution_count": 8,
   "metadata": {},
   "outputs": [
    {
     "data": {
      "image/png": "[encoded data removed]",
      "text/plain": [
       "<Figure size 432x288 with 1 Axes>"
      ]
     },
     "metadata": {
      "needs_background": "light"
     },
     "output_type": "display_data"
    }
   ],
   "source": [
    "plt.title('Dice Rolls (1000)')\n",
    "plt.xlabel('Number')\n",
    "plt.ylabel('Count')\n",
    "plt.bar(dicecount.keys(), dicecount.values())\n",
    "plt.show()"
   ]
  },
  {
   "cell_type": "code",
   "execution_count": 18,
   "metadata": {},
   "outputs": [
    {
     "data": {
      "image/png": "[encoded data removed]",
      "text/plain": [
       "<Figure size 432x288 with 1 Axes>"
      ]
     },
     "metadata": {
      "needs_background": "light"
     },
     "output_type": "display_data"
    }
   ],
   "source": [
    "plt.title('Dice Rolls (1000)')\n",
    "plt.xlabel('Number')\n",
    "plt.ylabel('Count')\n",
    "plt.bar(dicecount.keys(), dicecount.values(), color='green')\n",
    "plt.show()"
   ]
  },
  {
   "cell_type": "code",
   "execution_count": 11,
   "metadata": {},
   "outputs": [
    {
     "data": {
      "text/plain": [
       "<Figure size 432x288 with 0 Axes>"
      ]
     },
     "metadata": {},
     "output_type": "display_data"
    }
   ],
   "source": [
    "plt.savefig(\"roll.png\")"
   ]
  },
  {
   "cell_type": "code",
   "execution_count": 3,
   "metadata": {},
   "outputs": [
    {
     "name": "stdout",
     "output_type": "stream",
     "text": [
      "6100877\n",
      "New South Wales\n",
      "Victoria\n",
      "Queensland\n",
      "South Australia\n",
      "Western Australia\n",
      "Tasmania\n",
      "Northern Territory\n",
      "Australian Capital Territory\n",
      "New South Wales  :  7757843\n",
      "Victoria  :  6100877\n",
      "Queensland  :  4860448\n",
      "South Australia  :  1710804\n",
      "Western Australia  :  2623164\n",
      "Tasmania  :  519783\n",
      "Northern Territory  :  245657\n",
      "Australian Capital Territory  :  398349\n"
     ]
    }
   ],
   "source": [
    "%run pops.py"
   ]
  },
  {
   "cell_type": "code",
   "execution_count": 8,
   "metadata": {},
   "outputs": [
    {
     "name": "stdout",
     "output_type": "stream",
     "text": [
      "6100877\n",
      "New South Wales\n",
      "Victoria\n",
      "Queensland\n",
      "South Australia\n",
      "Western Australia\n",
      "Tasmania\n",
      "Northern Territory\n",
      "Australian Capital Territory\n",
      "New South Wales  :  7757843\n",
      "Victoria  :  6100877\n",
      "Queensland  :  4860448\n",
      "South Australia  :  1710804\n",
      "Western Australia  :  2623164\n",
      "Tasmania  :  519783\n",
      "Northern Territory  :  245657\n",
      "Australian Capital Territory  :  398349\n"
     ]
    }
   ],
   "source": [
    "%run ../Prac09/pops.py"
   ]
  },
  {
   "cell_type": "code",
   "execution_count": 15,
   "metadata": {},
   "outputs": [
    {
     "data": {
      "text/plain": [
       "{1: 177, 2: 161, 3: 152, 4: 170, 5: 160, 6: 180}"
      ]
     },
     "execution_count": 15,
     "metadata": {},
     "output_type": "execute_result"
    }
   ],
   "source": [
    "dicecount"
   ]
  }
 ],
 "metadata": {
  "kernelspec": {
   "display_name": "Python 3",
   "language": "python",
   "name": "python3"
  },
  "language_info": {
   "codemirror_mode": {
    "name": "ipython",
    "version": 3
   },
   "file_extension": ".py",
   "mimetype": "text/x-python",
   "name": "python",
   "nbconvert_exporter": "python",
   "pygments_lexer": "ipython3",
   "version": "3.6.9"
  }
 },
 "nbformat": 4,
 "nbformat_minor": 4
}
