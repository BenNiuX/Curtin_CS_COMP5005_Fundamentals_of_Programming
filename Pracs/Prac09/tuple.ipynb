{
 "cells": [
  {
   "cell_type": "markdown",
   "metadata": {},
   "source": [
    "Testing out jupyter notebook with Tuple task"
   ]
  },
  {
   "cell_type": "code",
   "execution_count": 8,
   "metadata": {},
   "outputs": [
    {
     "name": "stdout",
     "output_type": "stream",
     "text": [
      "('spam', 'eggs', 42)\n",
      "(1, 4, 9, 16, 25)\n",
      "('yes', 'oui', 'ja', 'si')\n",
      "9\n",
      "(4, 9, 16, 25, 'yes', 'oui', 'ja')\n",
      "(1, 4, 9, 16, 25, 36, 49, 64, 81, 100)\n"
     ]
    }
   ],
   "source": [
    "tup1 = ('spam', 'eggs', 42)\n",
    "tup2 = (1, 4, 9, 16, 25 )\n",
    "tup3 = \"yes\", \"oui\", \"ja\", \"si\"\n",
    "print(tup1)\n",
    "print(tup2)\n",
    "print(tup3)\n",
    "tup4 = tup2 + tup3\n",
    "print(len(tup4))\n",
    "print(tup4[1:-1])\n",
    "tuplist = [x ** 2 for x in range(1, 11)]\n",
    "tup5 = tuple(tuplist)\n",
    "print(tup5)"
   ]
  },
  {
   "cell_type": "code",
   "execution_count": null,
   "metadata": {},
   "outputs": [],
   "source": []
  }
 ],
 "metadata": {
  "kernelspec": {
   "display_name": "Python 3",
   "language": "python",
   "name": "python3"
  },
  "language_info": {
   "codemirror_mode": {
    "name": "ipython",
    "version": 3
   },
   "file_extension": ".py",
   "mimetype": "text/x-python",
   "name": "python",
   "nbconvert_exporter": "python",
   "pygments_lexer": "ipython3",
   "version": "3.6.9"
  }
 },
 "nbformat": 4,
 "nbformat_minor": 4
}
