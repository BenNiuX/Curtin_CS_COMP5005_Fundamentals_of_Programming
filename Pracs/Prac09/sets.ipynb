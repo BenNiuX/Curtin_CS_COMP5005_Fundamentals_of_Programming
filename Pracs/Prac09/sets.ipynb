{
 "cells": [
  {
   "cell_type": "code",
   "execution_count": 1,
   "metadata": {},
   "outputs": [
    {
     "name": "stdout",
     "output_type": "stream",
     "text": [
      "{'Michael', 'Graham', 'Eric', 'John', 'Terry'}\n",
      "{'Bill', 'Graham', 'Tim'}\n",
      "{'Michael', 'Kevin', 'Jamie', 'John'}\n",
      "{'Graham', 'Eric', 'Martin', 'John', 'Peter', 'Madeline', 'Marty'}\n",
      "{'Graham', 'John', 'Marty', 'Tim'}\n",
      "{'Terry', 'Michael', 'Eric', 'Graham'}\n"
     ]
    }
   ],
   "source": [
    "pythons = {\"Eric\", \"John\", \"Terry\", \"Michael\", \"Terry\", \"Graham\"}\n",
    "goodies = {\"Bill\", \"Tim\", \"Graham\"}\n",
    "wandas = {\"John\", \"Jamie\", \"Kevin\", \"Michael\"}\n",
    "yellowbeards = {\"Graham\", \"Peter\", \"Marty\", \"Eric\", \"Martin\", \"Madeline\", \"John\"}\n",
    "yorkshiremen = {\"Tim\", \"John\", \"Graham\", \"Marty\"}\n",
    "yorkshiremen2 = {\"Terry\", \"Michael\", \"Eric\", \"Graham\", \"Graham\"}\n",
    "print(pythons)\n",
    "print(goodies)\n",
    "print(wandas)\n",
    "print(yellowbeards)\n",
    "print(yorkshiremen)\n",
    "print(yorkshiremen2)"
   ]
  },
  {
   "cell_type": "code",
   "execution_count": 4,
   "metadata": {},
   "outputs": [
    {
     "name": "stdout",
     "output_type": "stream",
     "text": [
      "{'Graham', 'Eric', 'John'}\n",
      "{'Graham', 'Tim'}\n",
      "{'Bill', 'Graham', 'John', 'Marty', 'Tim'}\n",
      "{'Terry', 'John', 'Michael', 'Kevin', 'Graham', 'Jamie', 'Eric'}\n",
      "{'Graham', 'Eric', 'Martin', 'Peter', 'Madeline', 'Marty'}\n",
      "{'John', 'Marty', 'Tim'}\n"
     ]
    }
   ],
   "source": [
    "print(pythons.intersection(yellowbeards))\n",
    "print(goodies.intersection(yorkshiremen))\n",
    "print(goodies.union(yorkshiremen))\n",
    "print(pythons.union(wandas))\n",
    "print(yellowbeards.difference(wandas))\n",
    "print(yorkshiremen.difference(yorkshiremen2))"
   ]
  },
  {
   "cell_type": "code",
   "execution_count": null,
   "metadata": {},
   "outputs": [],
   "source": []
  }
 ],
 "metadata": {
  "kernelspec": {
   "display_name": "Python 3",
   "language": "python",
   "name": "python3"
  },
  "language_info": {
   "codemirror_mode": {
    "name": "ipython",
    "version": 3
   },
   "file_extension": ".py",
   "mimetype": "text/x-python",
   "name": "python",
   "nbconvert_exporter": "python",
   "pygments_lexer": "ipython3",
   "version": "3.6.9"
  }
 },
 "nbformat": 4,
 "nbformat_minor": 4
}
